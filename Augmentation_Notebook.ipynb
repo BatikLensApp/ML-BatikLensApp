{
 "cells": [
  {
   "cell_type": "code",
   "execution_count": 1,
   "metadata": {
    "colab": {
     "base_uri": "https://localhost:8080/"
    },
    "id": "rNuwbfO_mXPw",
    "outputId": "40d9a468-c6ce-4ef1-ae3a-74a07827e34b"
   },
   "outputs": [
    {
     "name": "stdout",
     "output_type": "stream",
     "text": [
      "Mounted at /content/drive\n"
     ]
    }
   ],
   "source": [
    "from tensorflow.keras.preprocessing.image import ImageDataGenerator\n",
    "import os\n",
    "import shutil\n",
    "import zipfile\n",
    "import matplotlib.pyplot as plt\n",
    "import numpy as np\n",
    "import math\n",
    "from PIL import Image\n",
    "from google.colab import drive\n",
    "drive.mount('/content/drive')\n",
    "%matplotlib inline"
   ]
  },
  {
   "cell_type": "code",
   "execution_count": 2,
   "metadata": {
    "colab": {
     "base_uri": "https://localhost:8080/"
    },
    "id": "5N70YvlKwpUn",
    "outputId": "07157d31-6b0d-4d16-9b71-a1e62a10d9c2"
   },
   "outputs": [
    {
     "name": "stdout",
     "output_type": "stream",
     "text": [
      "Dataset URL: https://www.kaggle.com/datasets/ravyardiankusuma/dataset-motif-batik\n",
      "License(s): DbCL-1.0\n",
      "Downloading dataset-motif-batik.zip to /content\n",
      "100% 2.72G/2.73G [00:28<00:00, 158MB/s]\n",
      "100% 2.73G/2.73G [00:28<00:00, 101MB/s]\n",
      "Dataset URL: https://www.kaggle.com/datasets/edywinarno/semarang-batik-dataset\n",
      "License(s): CC-BY-NC-SA-4.0\n",
      "Downloading semarang-batik-dataset.zip to /content\n",
      "100% 12.0G/12.0G [02:27<00:00, 108MB/s] \n",
      "100% 12.0G/12.0G [02:27<00:00, 87.7MB/s]\n"
     ]
    }
   ],
   "source": [
    "!kaggle datasets download -d ravyardiankusuma/dataset-motif-batik\n",
    "!kaggle datasets download -d edywinarno/semarang-batik-dataset\n",
    "\n",
    "with zipfile.ZipFile(\"dataset-motif-batik.zip\", \"r\") as zip_ref:\n",
    "    zip_ref.extractall(\"dataset-motif-batik\")\n",
    "with zipfile.ZipFile(\"semarang-batik-dataset.zip\", \"r\") as zip_ref:\n",
    "    zip_ref.extractall(\"semarang-batik-dataset\")"
   ]
  },
  {
   "cell_type": "code",
   "execution_count": 3,
   "metadata": {
    "colab": {
     "base_uri": "https://localhost:8080/"
    },
    "id": "4wJQt-KazLwi",
    "outputId": "49a125d8-ccd5-46c0-9269-beee0c9ee96a"
   },
   "outputs": [
    {
     "name": "stdout",
     "output_type": "stream",
     "text": [
      "The file 'dataset-motif-batik.zip' was successfully deleted.\n",
      "The file 'semarang-batik-dataset.zip' was successfully deleted.\n"
     ]
    }
   ],
   "source": [
    "zip_files = [\"dataset-motif-batik.zip\", \"semarang-batik-dataset.zip\"]\n",
    "\n",
    "for zip_file in zip_files:\n",
    "    if os.path.exists(zip_file):\n",
    "        os.remove(zip_file)\n",
    "        print(f\"The file '{zip_file}' was successfully deleted.\")\n",
    "    else:\n",
    "        print(f\"The file '{zip_file}' was not found.\")"
   ]
  },
  {
   "cell_type": "code",
   "execution_count": 4,
   "metadata": {
    "id": "oWY3GTAibht3"
   },
   "outputs": [],
   "source": [
    "base_dir = \"motif-batik-indonesia-fix\"\n",
    "base1_dir = \"dataset-motif-batik\"\n",
    "base2_dir = \"semarang-batik-dataset\""
   ]
  },
  {
   "cell_type": "code",
   "execution_count": 5,
   "metadata": {
    "colab": {
     "base_uri": "https://localhost:8080/"
    },
    "id": "qPWo6pO_drxC",
    "outputId": "c03b5aca-c236-4821-819b-f1201969a3e0"
   },
   "outputs": [
    {
     "name": "stdout",
     "output_type": "stream",
     "text": [
      "Folder 'Batik Cap Gambang Semarangan' renamed to 'JawaTengah_GambangSemarangan'\n",
      "Folder 'Batik Cap Asem Warak' renamed to 'JawaTengah_AsemWarak'\n",
      "Folder 'Batik Cap Tugu Muda' renamed to 'JawaTengah_TuguMuda'\n",
      "Folder 'Batik Cap Warak Beras Utah' renamed to 'JawaTengah_WarakBerasUtah'\n",
      "Folder 'Batik Cap Asem Sinom' renamed to 'JawaTengah_AsemSinom'\n",
      "Folder 'Batik Cap Blekok Warak' renamed to 'JawaTengah_BlekokWarak'\n",
      "Folder 'Batik Cap Asem Arang' renamed to 'JawaTengah_AsemArang'\n",
      "Folder 'Batik Cap Blekok' renamed to 'JawaTengah_Blekok'\n",
      "Folder 'Batik Cap Semarangan' renamed to 'JawaTengah_Semarangan'\n",
      "Folder 'Batik Cap Kembang Sepatu' renamed to 'JawaTengah_KembangSepatu'\n"
     ]
    }
   ],
   "source": [
    "# Rename Folder\n",
    "for folder_name in os.listdir(base2_dir):\n",
    "    old_folder_path = os.path.join(base2_dir, folder_name)\n",
    "    if os.path.isdir(old_folder_path) and \"Batik Cap\" in folder_name:\n",
    "        new_folder_name = f\"JawaTengah_{folder_name.replace('Batik Cap ', '').replace(' ', '')}\"\n",
    "        new_folder_path = os.path.join(base2_dir, new_folder_name)\n",
    "        os.rename(old_folder_path, new_folder_path)\n",
    "        print(f\"Folder '{folder_name}' renamed to '{new_folder_name}'\")"
   ]
  },
  {
   "cell_type": "code",
   "execution_count": 6,
   "metadata": {
    "colab": {
     "base_uri": "https://localhost:8080/"
    },
    "id": "hUZeIFTeyi0v",
    "outputId": "c7587bbb-8a33-4cb0-9104-479e847550d9"
   },
   "outputs": [
    {
     "name": "stdout",
     "output_type": "stream",
     "text": [
      "All images resized successfully.\n"
     ]
    }
   ],
   "source": [
    "# Rezise Images\n",
    "def resize_images_in_folder(folder_path, target_size=(512, 512)):\n",
    "    valid_extensions = ('.jpg', '.jpeg', '.png', '.JPG', '.JPEG', '.PNG')\n",
    "    for file_name in os.listdir(folder_path):\n",
    "        file_path = os.path.join(folder_path, file_name)\n",
    "        if file_name.endswith(valid_extensions):\n",
    "            try:\n",
    "                img = Image.open(file_path)\n",
    "                img = img.resize(target_size, Image.Resampling.LANCZOS)\n",
    "                img.save(file_path)\n",
    "            except Exception as e:\n",
    "                print(f\"Error resizing {file_path}: {e}\")\n",
    "\n",
    "for folder_name in os.listdir(base2_dir):\n",
    "    folder_path = os.path.join(base2_dir, folder_name)\n",
    "    if os.path.isdir(folder_path):\n",
    "        resize_images_in_folder(folder_path)\n",
    "\n",
    "print(\"All images resized successfully.\")"
   ]
  },
  {
   "cell_type": "code",
   "execution_count": 7,
   "metadata": {
    "colab": {
     "base_uri": "https://localhost:8080/"
    },
    "id": "VW3L-MWls-Mv",
    "outputId": "d8c14aed-8593-46bc-ed12-e30faadda3fa"
   },
   "outputs": [
    {
     "name": "stdout",
     "output_type": "stream",
     "text": [
      "All images resized successfully.\n"
     ]
    }
   ],
   "source": [
    "folders_to_resize = [\n",
    "    \"JawaTengah_Cipratan\", \"JawaTengah_IkanKerang\", \"JawaTengah_JagungLombok\",\n",
    "    \"JawaTengah_JambuBelimbing\", \"JawaTengah_JambuCitra\", \"JawaTengah_Laut\",\n",
    "    \"JawaTengah_LurikSemangka\", \"JawaTengah_MasjidAgungDemak\", \"JawaTengah_Naga\",\n",
    "    \"JawaTengah_TebuBambu\", \"JawaTengah_Tembakau\", \"JawaTengah_Yuyu\",\n",
    "    \"Lampung_Bledheg\", \"Lampung_KacangHijau\"\n",
    "]\n",
    "\n",
    "for folder_name in folders_to_resize:\n",
    "    folder_path = os.path.join(base1_dir, folder_name)\n",
    "    if os.path.isdir(folder_path):\n",
    "        resize_images_in_folder(folder_path)\n",
    "\n",
    "print(\"All images resized successfully.\")"
   ]
  },
  {
   "cell_type": "code",
   "execution_count": 8,
   "metadata": {
    "colab": {
     "base_uri": "https://localhost:8080/"
    },
    "id": "gFDsnwAKE0tX",
    "outputId": "5b6259f8-aec4-4566-fae5-5b31cfcabd67"
   },
   "outputs": [
    {
     "name": "stdout",
     "output_type": "stream",
     "text": [
      "All valid files moved successfully.\n"
     ]
    }
   ],
   "source": [
    "# Move Folder\n",
    "valid_extensions = ('.jpg', '.jpeg', '.png', '.JPG', '.JPEG', '.PNG')\n",
    "\n",
    "os.makedirs(base_dir, exist_ok=True)\n",
    "\n",
    "for source_dir in [base1_dir, base2_dir]:\n",
    "    for folder_name in os.listdir(source_dir):\n",
    "        source_folder_path = os.path.join(source_dir, folder_name)\n",
    "        destination_folder_path = os.path.join(base_dir, folder_name)\n",
    "\n",
    "        if os.path.isdir(source_folder_path):\n",
    "            os.makedirs(destination_folder_path, exist_ok=True)\n",
    "            for file_name in os.listdir(source_folder_path):\n",
    "                if file_name.endswith(valid_extensions):\n",
    "                    shutil.move(\n",
    "                        os.path.join(source_folder_path, file_name),\n",
    "                        os.path.join(destination_folder_path, file_name),\n",
    "                    )\n",
    "\n",
    "    shutil.rmtree(source_dir)\n",
    "\n",
    "print(\"All valid files moved successfully.\")"
   ]
  },
  {
   "cell_type": "code",
   "execution_count": 9,
   "metadata": {
    "colab": {
     "base_uri": "https://localhost:8080/"
    },
    "id": "w-Mq2u4hdt9E",
    "outputId": "46e72864-72f0-4091-8645-3c527035d064"
   },
   "outputs": [
    {
     "name": "stdout",
     "output_type": "stream",
     "text": [
      "Renaming files in folder 'Bali_Barong'...\n",
      "Files in folder 'Bali_Barong' renamed.\n",
      "Folder 'Bali_Barong': 42 files, augmenting 23 times per file.\n",
      "\n",
      "Renaming files in folder 'Bali_Merak'...\n",
      "Files in folder 'Bali_Merak' renamed.\n",
      "Folder 'Bali_Merak': 37 files, augmenting 27 times per file.\n",
      "\n",
      "Renaming files in folder 'Jakarta_OndelOndel'...\n",
      "Files in folder 'Jakarta_OndelOndel' renamed.\n",
      "Folder 'Jakarta_OndelOndel': 55 files, augmenting 18 times per file.\n",
      "\n",
      "Renaming files in folder 'Jakarta_Tumpal'...\n",
      "Files in folder 'Jakarta_Tumpal' renamed.\n",
      "Folder 'Jakarta_Tumpal': 118 files, augmenting 8 times per file.\n",
      "\n",
      "Renaming files in folder 'JawaBarat_Megamendung'...\n",
      "Files in folder 'JawaBarat_Megamendung' renamed.\n",
      "Folder 'JawaBarat_Megamendung': 349 files, augmenting 2 times per file.\n",
      "\n",
      "Renaming files in folder 'JawaTengah_AsemArang'...\n",
      "Files in folder 'JawaTengah_AsemArang' renamed.\n",
      "Folder 'JawaTengah_AsemArang': 300 files, augmenting 3 times per file.\n",
      "\n",
      "Renaming files in folder 'JawaTengah_AsemSinom'...\n",
      "Files in folder 'JawaTengah_AsemSinom' renamed.\n",
      "Folder 'JawaTengah_AsemSinom': 300 files, augmenting 3 times per file.\n",
      "\n",
      "Renaming files in folder 'JawaTengah_AsemWarak'...\n",
      "Files in folder 'JawaTengah_AsemWarak' renamed.\n",
      "Folder 'JawaTengah_AsemWarak': 308 files, augmenting 3 times per file.\n",
      "\n",
      "Renaming files in folder 'JawaTengah_Blekok'...\n",
      "Files in folder 'JawaTengah_Blekok' renamed.\n",
      "Folder 'JawaTengah_Blekok': 300 files, augmenting 3 times per file.\n",
      "\n",
      "Renaming files in folder 'JawaTengah_BlekokWarak'...\n",
      "Files in folder 'JawaTengah_BlekokWarak' renamed.\n",
      "Folder 'JawaTengah_BlekokWarak': 300 files, augmenting 3 times per file.\n",
      "\n",
      "Renaming files in folder 'JawaTengah_Cipratan'...\n",
      "Files in folder 'JawaTengah_Cipratan' renamed.\n",
      "Folder 'JawaTengah_Cipratan': 57 files, augmenting 17 times per file.\n",
      "\n",
      "Renaming files in folder 'JawaTengah_GambangSemarangan'...\n",
      "Files in folder 'JawaTengah_GambangSemarangan' renamed.\n",
      "Folder 'JawaTengah_GambangSemarangan': 308 files, augmenting 3 times per file.\n",
      "\n",
      "Renaming files in folder 'JawaTengah_IkanKerang'...\n",
      "Files in folder 'JawaTengah_IkanKerang' renamed.\n",
      "Folder 'JawaTengah_IkanKerang': 56 files, augmenting 17 times per file.\n",
      "\n",
      "Renaming files in folder 'JawaTengah_JagungLombok'...\n",
      "Files in folder 'JawaTengah_JagungLombok' renamed.\n",
      "Folder 'JawaTengah_JagungLombok': 53 files, augmenting 18 times per file.\n",
      "\n",
      "Renaming files in folder 'JawaTengah_JambuBelimbing'...\n",
      "Files in folder 'JawaTengah_JambuBelimbing' renamed.\n",
      "Folder 'JawaTengah_JambuBelimbing': 55 files, augmenting 18 times per file.\n",
      "\n",
      "Renaming files in folder 'JawaTengah_JambuCitra'...\n",
      "Files in folder 'JawaTengah_JambuCitra' renamed.\n",
      "Folder 'JawaTengah_JambuCitra': 72 files, augmenting 13 times per file.\n",
      "\n",
      "Renaming files in folder 'JawaTengah_Jlamprang'...\n",
      "Files in folder 'JawaTengah_Jlamprang' renamed.\n",
      "Folder 'JawaTengah_Jlamprang': 29 files, augmenting 34 times per file.\n",
      "\n",
      "Renaming files in folder 'JawaTengah_KembangSepatu'...\n",
      "Files in folder 'JawaTengah_KembangSepatu' renamed.\n",
      "Folder 'JawaTengah_KembangSepatu': 300 files, augmenting 3 times per file.\n",
      "\n",
      "Renaming files in folder 'JawaTengah_Laut'...\n",
      "Files in folder 'JawaTengah_Laut' renamed.\n",
      "Folder 'JawaTengah_Laut': 62 files, augmenting 16 times per file.\n",
      "\n",
      "Renaming files in folder 'JawaTengah_LurikSemangka'...\n",
      "Files in folder 'JawaTengah_LurikSemangka' renamed.\n",
      "Folder 'JawaTengah_LurikSemangka': 63 files, augmenting 15 times per file.\n",
      "\n",
      "Renaming files in folder 'JawaTengah_MasjidAgungDemak'...\n",
      "Files in folder 'JawaTengah_MasjidAgungDemak' renamed.\n",
      "Folder 'JawaTengah_MasjidAgungDemak': 82 files, augmenting 12 times per file.\n",
      "\n",
      "Renaming files in folder 'JawaTengah_Naga'...\n",
      "Files in folder 'JawaTengah_Naga' renamed.\n",
      "Folder 'JawaTengah_Naga': 75 files, augmenting 13 times per file.\n",
      "\n",
      "Renaming files in folder 'JawaTengah_ParangKusumo'...\n",
      "Files in folder 'JawaTengah_ParangKusumo' renamed.\n",
      "Folder 'JawaTengah_ParangKusumo': 11 files, augmenting 90 times per file.\n",
      "\n",
      "Renaming files in folder 'JawaTengah_ParangSlobog'...\n",
      "Files in folder 'JawaTengah_ParangSlobog' renamed.\n",
      "Folder 'JawaTengah_ParangSlobog': 55 files, augmenting 18 times per file.\n",
      "\n",
      "Renaming files in folder 'JawaTengah_Semarangan'...\n",
      "Files in folder 'JawaTengah_Semarangan' renamed.\n",
      "Folder 'JawaTengah_Semarangan': 304 files, augmenting 3 times per file.\n",
      "\n",
      "Renaming files in folder 'JawaTengah_Sidoluhur'...\n",
      "Files in folder 'JawaTengah_Sidoluhur' renamed.\n",
      "Folder 'JawaTengah_Sidoluhur': 154 files, augmenting 6 times per file.\n",
      "\n",
      "Renaming files in folder 'JawaTengah_TebuBambu'...\n",
      "Files in folder 'JawaTengah_TebuBambu' renamed.\n",
      "Folder 'JawaTengah_TebuBambu': 66 files, augmenting 15 times per file.\n",
      "\n",
      "Renaming files in folder 'JawaTengah_Tembakau'...\n",
      "Files in folder 'JawaTengah_Tembakau' renamed.\n",
      "Folder 'JawaTengah_Tembakau': 60 files, augmenting 16 times per file.\n",
      "\n",
      "Renaming files in folder 'JawaTengah_Truntum'...\n",
      "Files in folder 'JawaTengah_Truntum' renamed.\n",
      "Folder 'JawaTengah_Truntum': 204 files, augmenting 4 times per file.\n",
      "\n",
      "Renaming files in folder 'JawaTengah_TuguMuda'...\n",
      "Files in folder 'JawaTengah_TuguMuda' renamed.\n",
      "Folder 'JawaTengah_TuguMuda': 300 files, augmenting 3 times per file.\n",
      "\n",
      "Renaming files in folder 'JawaTengah_WarakBerasUtah'...\n",
      "Files in folder 'JawaTengah_WarakBerasUtah' renamed.\n",
      "Folder 'JawaTengah_WarakBerasUtah': 300 files, augmenting 3 times per file.\n",
      "\n",
      "Renaming files in folder 'JawaTengah_Yuyu'...\n",
      "Files in folder 'JawaTengah_Yuyu' renamed.\n",
      "Folder 'JawaTengah_Yuyu': 65 files, augmenting 15 times per file.\n",
      "\n",
      "Renaming files in folder 'JawaTimur_Gentongan'...\n",
      "Files in folder 'JawaTimur_Gentongan' renamed.\n",
      "Folder 'JawaTimur_Gentongan': 8 files, augmenting 124 times per file.\n",
      "\n",
      "Renaming files in folder 'JawaTimur_Pring'...\n",
      "Files in folder 'JawaTimur_Pring' renamed.\n",
      "Folder 'JawaTimur_Pring': 40 files, augmenting 24 times per file.\n",
      "\n",
      "Renaming files in folder 'KalimantanBarat_Insang'...\n",
      "Files in folder 'KalimantanBarat_Insang' renamed.\n",
      "Folder 'KalimantanBarat_Insang': 149 files, augmenting 6 times per file.\n",
      "\n",
      "Renaming files in folder 'Kalimantan_Dayak'...\n",
      "Files in folder 'Kalimantan_Dayak' renamed.\n",
      "Folder 'Kalimantan_Dayak': 40 files, augmenting 24 times per file.\n",
      "\n",
      "Renaming files in folder 'Lampung_Bledheg'...\n",
      "Files in folder 'Lampung_Bledheg' renamed.\n",
      "Folder 'Lampung_Bledheg': 45 files, augmenting 22 times per file.\n",
      "\n",
      "Renaming files in folder 'Lampung_Gajah'...\n",
      "Files in folder 'Lampung_Gajah' renamed.\n",
      "Folder 'Lampung_Gajah': 39 files, augmenting 25 times per file.\n",
      "\n",
      "Renaming files in folder 'Lampung_KacangHijau'...\n",
      "Files in folder 'Lampung_KacangHijau' renamed.\n",
      "Folder 'Lampung_KacangHijau': 68 files, augmenting 14 times per file.\n",
      "\n",
      "Renaming files in folder 'Maluku_Pala'...\n",
      "Files in folder 'Maluku_Pala' renamed.\n",
      "Folder 'Maluku_Pala': 40 files, augmenting 24 times per file.\n",
      "\n",
      "Renaming files in folder 'NTB_Lumbung'...\n",
      "Files in folder 'NTB_Lumbung' renamed.\n",
      "Folder 'NTB_Lumbung': 40 files, augmenting 24 times per file.\n",
      "\n",
      "Renaming files in folder 'Papua_Asmat'...\n",
      "Files in folder 'Papua_Asmat' renamed.\n",
      "Folder 'Papua_Asmat': 40 files, augmenting 24 times per file.\n",
      "\n",
      "Renaming files in folder 'Papua_Cendrawasih'...\n",
      "Files in folder 'Papua_Cendrawasih' renamed.\n",
      "Folder 'Papua_Cendrawasih': 60 files, augmenting 16 times per file.\n",
      "\n",
      "Renaming files in folder 'Papua_Tifa'...\n",
      "Files in folder 'Papua_Tifa' renamed.\n",
      "Folder 'Papua_Tifa': 40 files, augmenting 24 times per file.\n",
      "\n",
      "Renaming files in folder 'SulawesiSelatan_Lontara'...\n",
      "Files in folder 'SulawesiSelatan_Lontara' renamed.\n",
      "Folder 'SulawesiSelatan_Lontara': 40 files, augmenting 24 times per file.\n",
      "\n",
      "Renaming files in folder 'SumateraBarat_RumahMinang'...\n",
      "Files in folder 'SumateraBarat_RumahMinang' renamed.\n",
      "Folder 'SumateraBarat_RumahMinang': 40 files, augmenting 24 times per file.\n",
      "\n",
      "Renaming files in folder 'SumateraUtara_Boraspati'...\n",
      "Files in folder 'SumateraUtara_Boraspati' renamed.\n",
      "Folder 'SumateraUtara_Boraspati': 38 files, augmenting 26 times per file.\n",
      "\n",
      "Renaming files in folder 'SumateraUtara_PintuAceh'...\n",
      "Files in folder 'SumateraUtara_PintuAceh' renamed.\n",
      "Folder 'SumateraUtara_PintuAceh': 40 files, augmenting 24 times per file.\n",
      "\n",
      "Renaming files in folder 'Yogyakarta_Kawung'...\n",
      "Files in folder 'Yogyakarta_Kawung' renamed.\n",
      "Folder 'Yogyakarta_Kawung': 473 files, augmenting 2 times per file.\n",
      "\n",
      "Renaming files in folder 'Yogyakarta_ParangCurigo'...\n",
      "Files in folder 'Yogyakarta_ParangCurigo' renamed.\n",
      "Folder 'Yogyakarta_ParangCurigo': 12 files, augmenting 83 times per file.\n",
      "\n",
      "Renaming files in folder 'Yogyakarta_ParangRusak'...\n",
      "Files in folder 'Yogyakarta_ParangRusak' renamed.\n",
      "Folder 'Yogyakarta_ParangRusak': 188 files, augmenting 5 times per file.\n",
      "\n",
      "Renaming files in folder 'Yogyakarta_ParangTuding'...\n",
      "Files in folder 'Yogyakarta_ParangTuding' renamed.\n",
      "Folder 'Yogyakarta_ParangTuding': 16 files, augmenting 62 times per file.\n",
      "\n",
      "Augmentation completed!\n"
     ]
    }
   ],
   "source": [
    "# Augmentation\n",
    "datagen = ImageDataGenerator(\n",
    "    rotation_range=10,\n",
    "    width_shift_range=0.1,\n",
    "    height_shift_range=0.1,\n",
    "    shear_range=0.1,\n",
    "    zoom_range=0.1,\n",
    "    horizontal_flip=True,\n",
    "    vertical_flip=True,\n",
    "    fill_mode='nearest',\n",
    "    brightness_range=[0.8, 1.2]\n",
    ")\n",
    "\n",
    "valid_extensions = ('.jpg', '.jpeg', '.png', '.JPG', '.JPEG', '.PNG')\n",
    "target_count = 1000\n",
    "\n",
    "def rename_and_augment(folder_path, folder_name):\n",
    "    base_name = folder_name.split('_', 1)[-1]\n",
    "\n",
    "    file_list = [f for f in os.listdir(folder_path) if f.endswith(valid_extensions)]\n",
    "    print(f\"Renaming files in folder '{folder_name}'...\")\n",
    "    for i, file in enumerate(sorted(file_list), start=1):\n",
    "        old_file_path = os.path.join(folder_path, file)\n",
    "        file_ext = os.path.splitext(file)[1]\n",
    "        new_file_name = f\"{base_name}_{i:04d}{file_ext}\"\n",
    "        new_file_path = os.path.join(folder_path, new_file_name)\n",
    "        os.rename(old_file_path, new_file_path)\n",
    "    print(f\"Files in folder '{folder_name}' renamed.\")\n",
    "\n",
    "    file_list = sorted([f for f in os.listdir(folder_path) if f.endswith(valid_extensions)])\n",
    "    current_count = len(file_list)\n",
    "\n",
    "    if current_count >= target_count:\n",
    "        print(f\"Folder '{folder_name}' has sufficient files. No augmentation needed.\")\n",
    "        return\n",
    "\n",
    "    augment_per_file = math.ceil((target_count - current_count) / current_count)\n",
    "    print(f\"Folder '{folder_name}': {current_count} files, augmenting {augment_per_file} times per file.\\n\")\n",
    "\n",
    "    file_index = current_count + 1\n",
    "    for file in file_list:\n",
    "        img = Image.open(os.path.join(folder_path, file)).convert('RGB')\n",
    "        img_array = np.expand_dims(np.array(img), axis=0)\n",
    "        for i, batch in enumerate(datagen.flow(img_array, batch_size=1)):\n",
    "            if file_index > target_count:\n",
    "                break\n",
    "\n",
    "            new_file_name = f\"{base_name}_{file_index:04d}.jpg\"\n",
    "            save_path = os.path.join(folder_path, new_file_name)\n",
    "            Image.fromarray(np.uint8(batch[0])).save(save_path)\n",
    "            file_index += 1\n",
    "\n",
    "            if i + 1 >= augment_per_file:\n",
    "                break\n",
    "\n",
    "# Augmentation folder\n",
    "for folder_name in sorted(os.listdir(base_dir)):\n",
    "    folder_path = os.path.join(base_dir, folder_name)\n",
    "    if os.path.isdir(folder_path):\n",
    "        rename_and_augment(folder_path, folder_name)\n",
    "\n",
    "print(\"Augmentation completed!\")"
   ]
  },
  {
   "cell_type": "code",
   "execution_count": 10,
   "metadata": {
    "colab": {
     "base_uri": "https://localhost:8080/"
    },
    "id": "qsOfhADfd7nX",
    "outputId": "07b10711-76e8-4e3f-dac5-2628a801c3c3"
   },
   "outputs": [
    {
     "name": "stdout",
     "output_type": "stream",
     "text": [
      "ZIP file successfully created: motif-batik-indonesia-fix.zip\n"
     ]
    }
   ],
   "source": [
    "zip_file_name = \"motif-batik-indonesia-fix.zip\"\n",
    "\n",
    "shutil.make_archive(base_name=zip_file_name.replace(\".zip\",\"\"), format='zip', root_dir='/content/motif-batik-indonesia-fix')\n",
    "\n",
    "print(f\"ZIP file successfully created: {zip_file_name}\")"
   ]
  },
  {
   "cell_type": "code",
   "execution_count": 11,
   "metadata": {
    "colab": {
     "base_uri": "https://localhost:8080/"
    },
    "id": "vHmAvVDIaKlv",
    "outputId": "9b35addf-1174-4a98-d3a8-23f6ee8706c7"
   },
   "outputs": [
    {
     "name": "stdout",
     "output_type": "stream",
     "text": [
      "File successfully copied to Google Drive at: /content/drive/My Drive/motif-batik-indonesia-fix.zip\n"
     ]
    }
   ],
   "source": [
    "destination_path = '/content/drive/My Drive/' + zip_file_name\n",
    "shutil.copy(zip_file_name, destination_path)\n",
    "\n",
    "print(f\"File successfully copied to Google Drive at: {destination_path}\")"
   ]
  }
 ],
 "metadata": {
  "colab": {
   "provenance": []
  },
  "kernelspec": {
   "display_name": "Python 3",
   "name": "python3"
  },
  "language_info": {
   "name": "python"
  }
 },
 "nbformat": 4,
 "nbformat_minor": 0
}
